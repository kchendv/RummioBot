{
 "cells": [
  {
   "cell_type": "code",
   "execution_count": null,
   "id": "4324332a",
   "metadata": {},
   "outputs": [],
   "source": [
    "from selenium import webdriver\n",
    "from selenium.webdriver.chrome.service import Service\n",
    "from selenium.webdriver.common.by import By\n",
    "import time, os\n",
    "\n",
    "# Setup Chrome options\n",
    "options = webdriver.ChromeOptions()\n",
    "options.add_argument(\"--start-maximized\")  # Optional: Start with a maximized window\n",
    "\n",
    "# Create WebDriver (Make sure chromedriver is in your PATH or specify the full path)\n",
    "driver = webdriver.Chrome(service=Service(), options=options)\n",
    "\n",
    "file_path = os.path.abspath(\"rumm.io.html\")\n",
    "file_url = f\"file://{file_path}\"\n",
    "# Load the page\n",
    "\n",
    "driver.get(file_url)\n",
    "\n",
    "# Wait for page to load content\n",
    "time.sleep(5)  # Increase if needed\n",
    "\n",
    "\n",
    "# The browser stays open\n"
   ]
  },
  {
   "cell_type": "code",
   "execution_count": 5,
   "id": "67982afe",
   "metadata": {},
   "outputs": [],
   "source": [
    "def get_input():\n",
    "    # Get all cell-top divs inside the main 5x5 grid (not tutorial or win-grid)\n",
    "    grid_cells = driver.find_elements(By.XPATH, '//div[@class=\"grid\"]//div[@class=\"row\"]//div//div')\n",
    "    # Extract the class name (e.g., c0, c1...) and parse the numeric value\n",
    "    values = []\n",
    "    for cell in grid_cells:\n",
    "        class_attr = cell.get_attribute(\"class\")\n",
    "        match = class_attr.split(\" \")\n",
    "        values.append(int(match[-1][1:]))\n",
    "\n",
    "\n",
    "    input_cell = driver.find_elements(By.XPATH, '//div[@id=\"next\"]//div')\n",
    "    class_attr = input_cell[0].get_attribute(\"class\")\n",
    "    match = class_attr.split(\" \")\n",
    "    values.append(int(match[-1][1:]))\n",
    "    return values\n",
    "    # print(\"Input Grid Values (left to right, top to bottom):\")\n",
    "    # print(values)"
   ]
  },
  {
   "cell_type": "code",
   "execution_count": 6,
   "id": "91d7df09",
   "metadata": {},
   "outputs": [],
   "source": [
    "def is_game_end(values):\n",
    "    return not(0 in values)"
   ]
  },
  {
   "cell_type": "code",
   "execution_count": 7,
   "id": "78308b8e",
   "metadata": {},
   "outputs": [
    {
     "name": "stdout",
     "output_type": "stream",
     "text": [
      "[0, 0, 0, 0, 0, 0, 0, 0, 0, 0, 0, 0, 0, 0, 0, 0, 0, 0, 0, 0, 0, 0, 0, 0, 0, 1] False\n"
     ]
    }
   ],
   "source": [
    "# Demo only\n",
    "values = get_input()\n",
    "print(values, is_game_end(values))"
   ]
  },
  {
   "cell_type": "code",
   "execution_count": 8,
   "id": "e7b7ee7b",
   "metadata": {},
   "outputs": [],
   "source": [
    "def do_click(index):\n",
    "    grid_cells = driver.find_elements(By.XPATH, '//div[@class=\"grid\"]//div[@class=\"row\"]//div//div')\n",
    "    grid_cells[index].click()"
   ]
  },
  {
   "cell_type": "code",
   "execution_count": 23,
   "id": "3ee08e94",
   "metadata": {},
   "outputs": [],
   "source": [
    "for i in range(25):\n",
    "    do_click(i)"
   ]
  },
  {
   "cell_type": "code",
   "execution_count": 10,
   "id": "80a4bc71",
   "metadata": {},
   "outputs": [],
   "source": [
    "def reset():\n",
    "    reset_button = driver.find_element(By.XPATH, '//div[text()=\"restart\"]')\n",
    "    reset_button.click()"
   ]
  },
  {
   "cell_type": "code",
   "execution_count": 24,
   "id": "8a99e3dc",
   "metadata": {},
   "outputs": [],
   "source": [
    "reset()"
   ]
  }
 ],
 "metadata": {
  "kernelspec": {
   "display_name": "Python 3",
   "language": "python",
   "name": "python3"
  },
  "language_info": {
   "codemirror_mode": {
    "name": "ipython",
    "version": 3
   },
   "file_extension": ".py",
   "mimetype": "text/x-python",
   "name": "python",
   "nbconvert_exporter": "python",
   "pygments_lexer": "ipython3",
   "version": "3.10.10"
  }
 },
 "nbformat": 4,
 "nbformat_minor": 5
}
