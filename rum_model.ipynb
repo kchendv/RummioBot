{
 "cells": [
  {
   "cell_type": "code",
   "execution_count": 2,
   "id": "5d47e723",
   "metadata": {},
   "outputs": [],
   "source": [
    "import gymnasium as gym"
   ]
  },
  {
   "cell_type": "code",
   "execution_count": null,
   "id": "4324332a",
   "metadata": {},
   "outputs": [],
   "source": [
    "from selenium import webdriver\n",
    "from selenium.webdriver.chrome.service import Service\n",
    "from selenium.webdriver.common.by import By\n",
    "import time\n",
    "\n",
    "# Setup Chrome options\n",
    "options = webdriver.ChromeOptions()\n",
    "options.add_argument(\"--start-maximized\")  # Optional: Start with a maximized window\n",
    "\n",
    "# Create WebDriver (Make sure chromedriver is in your PATH or specify the full path)\n",
    "driver = webdriver.Chrome(service=Service(), options=options)\n",
    "\n",
    "# Load the page\n",
    "driver.get(\"https://rumm.io\")\n",
    "\n",
    "# Wait for page to load content\n",
    "time.sleep(5)  # Increase if needed\n",
    "\n",
    "\n",
    "# The browser stays open\n"
   ]
  },
  {
   "cell_type": "code",
   "execution_count": 15,
   "id": "67982afe",
   "metadata": {},
   "outputs": [],
   "source": [
    "def get_input():\n",
    "    # Get all cell-top divs inside the main 5x5 grid (not tutorial or win-grid)\n",
    "    grid_cells = driver.find_elements(By.XPATH, '//div[@class=\"grid\"]//div[@class=\"row\"]//div//div')\n",
    "    # Extract the class name (e.g., c0, c1...) and parse the numeric value\n",
    "    values = []\n",
    "    for cell in grid_cells:\n",
    "        class_attr = cell.get_attribute(\"class\")\n",
    "        match = class_attr.split(\" \")\n",
    "        values.append(int(match[-1][1:]))\n",
    "\n",
    "\n",
    "    input_cell = driver.find_elements(By.XPATH, '//div[@id=\"next\"]//div')\n",
    "    class_attr = input_cell[0].get_attribute(\"class\")\n",
    "    match = class_attr.split(\" \")\n",
    "    values.append(int(match[-1][1:]))\n",
    "    return values\n",
    "    # print(\"Input Grid Values (left to right, top to bottom):\")\n",
    "    # print(values)"
   ]
  },
  {
   "cell_type": "code",
   "execution_count": 11,
   "id": "91d7df09",
   "metadata": {},
   "outputs": [],
   "source": [
    "def is_game_end(values):\n",
    "    return not(0 in values)"
   ]
  },
  {
   "cell_type": "code",
   "execution_count": 29,
   "id": "78308b8e",
   "metadata": {},
   "outputs": [
    {
     "ename": "InvalidSessionIdException",
     "evalue": "Message: invalid session id: session deleted as the browser has closed the connection\nfrom disconnected: not connected to DevTools\n  (Session info: chrome=138.0.7204.100)\nStacktrace:\n\tGetHandleVerifier [0x0x7ff66d7de925+77845]\n\tGetHandleVerifier [0x0x7ff66d7de980+77936]\n\t(No symbol) [0x0x7ff66d599cda]\n\t(No symbol) [0x0x7ff66d585f35]\n\t(No symbol) [0x0x7ff66d5aaabe]\n\t(No symbol) [0x0x7ff66d61feb5]\n\t(No symbol) [0x0x7ff66d640432]\n\t(No symbol) [0x0x7ff66d6186a3]\n\t(No symbol) [0x0x7ff66d5e1791]\n\t(No symbol) [0x0x7ff66d5e2523]\n\tGetHandleVerifier [0x0x7ff66dab683d+3059501]\n\tGetHandleVerifier [0x0x7ff66dab0bfd+3035885]\n\tGetHandleVerifier [0x0x7ff66dad03f0+3164896]\n\tGetHandleVerifier [0x0x7ff66d7f8c2e+185118]\n\tGetHandleVerifier [0x0x7ff66d80053f+216111]\n\tGetHandleVerifier [0x0x7ff66d7e72d4+113092]\n\tGetHandleVerifier [0x0x7ff66d7e7489+113529]\n\tGetHandleVerifier [0x0x7ff66d7ce288+10616]\n\tBaseThreadInitThunk [0x0x7ff99e79e8d7+23]\n\tRtlUserThreadStart [0x0x7ff99ee1c34c+44]\n",
     "output_type": "error",
     "traceback": [
      "\u001b[1;31m---------------------------------------------------------------------------\u001b[0m",
      "\u001b[1;31mInvalidSessionIdException\u001b[0m                 Traceback (most recent call last)",
      "Cell \u001b[1;32mIn[29], line 2\u001b[0m\n\u001b[0;32m      1\u001b[0m \u001b[38;5;66;03m# Demo only\u001b[39;00m\n\u001b[1;32m----> 2\u001b[0m values \u001b[38;5;241m=\u001b[39m \u001b[43mget_input\u001b[49m\u001b[43m(\u001b[49m\u001b[43m)\u001b[49m\n\u001b[0;32m      3\u001b[0m \u001b[38;5;28mprint\u001b[39m(values, is_game_end(values))\n",
      "Cell \u001b[1;32mIn[15], line 3\u001b[0m, in \u001b[0;36mget_input\u001b[1;34m()\u001b[0m\n\u001b[0;32m      1\u001b[0m \u001b[38;5;28;01mdef\u001b[39;00m \u001b[38;5;21mget_input\u001b[39m():\n\u001b[0;32m      2\u001b[0m     \u001b[38;5;66;03m# Get all cell-top divs inside the main 5x5 grid (not tutorial or win-grid)\u001b[39;00m\n\u001b[1;32m----> 3\u001b[0m     grid_cells \u001b[38;5;241m=\u001b[39m \u001b[43mdriver\u001b[49m\u001b[38;5;241;43m.\u001b[39;49m\u001b[43mfind_elements\u001b[49m\u001b[43m(\u001b[49m\u001b[43mBy\u001b[49m\u001b[38;5;241;43m.\u001b[39;49m\u001b[43mXPATH\u001b[49m\u001b[43m,\u001b[49m\u001b[43m \u001b[49m\u001b[38;5;124;43m'\u001b[39;49m\u001b[38;5;124;43m//div[@class=\u001b[39;49m\u001b[38;5;124;43m\"\u001b[39;49m\u001b[38;5;124;43mgrid\u001b[39;49m\u001b[38;5;124;43m\"\u001b[39;49m\u001b[38;5;124;43m]//div[@class=\u001b[39;49m\u001b[38;5;124;43m\"\u001b[39;49m\u001b[38;5;124;43mrow\u001b[39;49m\u001b[38;5;124;43m\"\u001b[39;49m\u001b[38;5;124;43m]//div//div\u001b[39;49m\u001b[38;5;124;43m'\u001b[39;49m\u001b[43m)\u001b[49m\n\u001b[0;32m      4\u001b[0m     \u001b[38;5;66;03m# Extract the class name (e.g., c0, c1...) and parse the numeric value\u001b[39;00m\n\u001b[0;32m      5\u001b[0m     values \u001b[38;5;241m=\u001b[39m []\n",
      "File \u001b[1;32mc:\\Users\\clean\\AppData\\Local\\Programs\\Python\\Python312\\Lib\\site-packages\\selenium\\webdriver\\remote\\webdriver.py:771\u001b[0m, in \u001b[0;36mWebDriver.find_elements\u001b[1;34m(self, by, value)\u001b[0m\n\u001b[0;32m    767\u001b[0m     value \u001b[38;5;241m=\u001b[39m \u001b[38;5;124mf\u001b[39m\u001b[38;5;124m'\u001b[39m\u001b[38;5;124m[name=\u001b[39m\u001b[38;5;124m\"\u001b[39m\u001b[38;5;132;01m{\u001b[39;00mvalue\u001b[38;5;132;01m}\u001b[39;00m\u001b[38;5;124m\"\u001b[39m\u001b[38;5;124m]\u001b[39m\u001b[38;5;124m'\u001b[39m\n\u001b[0;32m    769\u001b[0m \u001b[38;5;66;03m# Return empty list if driver returns null\u001b[39;00m\n\u001b[0;32m    770\u001b[0m \u001b[38;5;66;03m# See https://github.com/SeleniumHQ/selenium/issues/4555\u001b[39;00m\n\u001b[1;32m--> 771\u001b[0m \u001b[38;5;28;01mreturn\u001b[39;00m \u001b[38;5;28;43mself\u001b[39;49m\u001b[38;5;241;43m.\u001b[39;49m\u001b[43mexecute\u001b[49m\u001b[43m(\u001b[49m\u001b[43mCommand\u001b[49m\u001b[38;5;241;43m.\u001b[39;49m\u001b[43mFIND_ELEMENTS\u001b[49m\u001b[43m,\u001b[49m\u001b[43m \u001b[49m\u001b[43m{\u001b[49m\u001b[38;5;124;43m\"\u001b[39;49m\u001b[38;5;124;43musing\u001b[39;49m\u001b[38;5;124;43m\"\u001b[39;49m\u001b[43m:\u001b[49m\u001b[43m \u001b[49m\u001b[43mby\u001b[49m\u001b[43m,\u001b[49m\u001b[43m \u001b[49m\u001b[38;5;124;43m\"\u001b[39;49m\u001b[38;5;124;43mvalue\u001b[39;49m\u001b[38;5;124;43m\"\u001b[39;49m\u001b[43m:\u001b[49m\u001b[43m \u001b[49m\u001b[43mvalue\u001b[49m\u001b[43m}\u001b[49m\u001b[43m)\u001b[49m[\u001b[38;5;124m\"\u001b[39m\u001b[38;5;124mvalue\u001b[39m\u001b[38;5;124m\"\u001b[39m] \u001b[38;5;129;01mor\u001b[39;00m []\n",
      "File \u001b[1;32mc:\\Users\\clean\\AppData\\Local\\Programs\\Python\\Python312\\Lib\\site-packages\\selenium\\webdriver\\remote\\webdriver.py:347\u001b[0m, in \u001b[0;36mWebDriver.execute\u001b[1;34m(self, driver_command, params)\u001b[0m\n\u001b[0;32m    345\u001b[0m response \u001b[38;5;241m=\u001b[39m \u001b[38;5;28mself\u001b[39m\u001b[38;5;241m.\u001b[39mcommand_executor\u001b[38;5;241m.\u001b[39mexecute(driver_command, params)\n\u001b[0;32m    346\u001b[0m \u001b[38;5;28;01mif\u001b[39;00m response:\n\u001b[1;32m--> 347\u001b[0m     \u001b[38;5;28;43mself\u001b[39;49m\u001b[38;5;241;43m.\u001b[39;49m\u001b[43merror_handler\u001b[49m\u001b[38;5;241;43m.\u001b[39;49m\u001b[43mcheck_response\u001b[49m\u001b[43m(\u001b[49m\u001b[43mresponse\u001b[49m\u001b[43m)\u001b[49m\n\u001b[0;32m    348\u001b[0m     response[\u001b[38;5;124m\"\u001b[39m\u001b[38;5;124mvalue\u001b[39m\u001b[38;5;124m\"\u001b[39m] \u001b[38;5;241m=\u001b[39m \u001b[38;5;28mself\u001b[39m\u001b[38;5;241m.\u001b[39m_unwrap_value(response\u001b[38;5;241m.\u001b[39mget(\u001b[38;5;124m\"\u001b[39m\u001b[38;5;124mvalue\u001b[39m\u001b[38;5;124m\"\u001b[39m, \u001b[38;5;28;01mNone\u001b[39;00m))\n\u001b[0;32m    349\u001b[0m     \u001b[38;5;28;01mreturn\u001b[39;00m response\n",
      "File \u001b[1;32mc:\\Users\\clean\\AppData\\Local\\Programs\\Python\\Python312\\Lib\\site-packages\\selenium\\webdriver\\remote\\errorhandler.py:229\u001b[0m, in \u001b[0;36mErrorHandler.check_response\u001b[1;34m(self, response)\u001b[0m\n\u001b[0;32m    227\u001b[0m         alert_text \u001b[38;5;241m=\u001b[39m value[\u001b[38;5;124m\"\u001b[39m\u001b[38;5;124malert\u001b[39m\u001b[38;5;124m\"\u001b[39m]\u001b[38;5;241m.\u001b[39mget(\u001b[38;5;124m\"\u001b[39m\u001b[38;5;124mtext\u001b[39m\u001b[38;5;124m\"\u001b[39m)\n\u001b[0;32m    228\u001b[0m     \u001b[38;5;28;01mraise\u001b[39;00m exception_class(message, screen, stacktrace, alert_text)  \u001b[38;5;66;03m# type: ignore[call-arg]  # mypy is not smart enough here\u001b[39;00m\n\u001b[1;32m--> 229\u001b[0m \u001b[38;5;28;01mraise\u001b[39;00m exception_class(message, screen, stacktrace)\n",
      "\u001b[1;31mInvalidSessionIdException\u001b[0m: Message: invalid session id: session deleted as the browser has closed the connection\nfrom disconnected: not connected to DevTools\n  (Session info: chrome=138.0.7204.100)\nStacktrace:\n\tGetHandleVerifier [0x0x7ff66d7de925+77845]\n\tGetHandleVerifier [0x0x7ff66d7de980+77936]\n\t(No symbol) [0x0x7ff66d599cda]\n\t(No symbol) [0x0x7ff66d585f35]\n\t(No symbol) [0x0x7ff66d5aaabe]\n\t(No symbol) [0x0x7ff66d61feb5]\n\t(No symbol) [0x0x7ff66d640432]\n\t(No symbol) [0x0x7ff66d6186a3]\n\t(No symbol) [0x0x7ff66d5e1791]\n\t(No symbol) [0x0x7ff66d5e2523]\n\tGetHandleVerifier [0x0x7ff66dab683d+3059501]\n\tGetHandleVerifier [0x0x7ff66dab0bfd+3035885]\n\tGetHandleVerifier [0x0x7ff66dad03f0+3164896]\n\tGetHandleVerifier [0x0x7ff66d7f8c2e+185118]\n\tGetHandleVerifier [0x0x7ff66d80053f+216111]\n\tGetHandleVerifier [0x0x7ff66d7e72d4+113092]\n\tGetHandleVerifier [0x0x7ff66d7e7489+113529]\n\tGetHandleVerifier [0x0x7ff66d7ce288+10616]\n\tBaseThreadInitThunk [0x0x7ff99e79e8d7+23]\n\tRtlUserThreadStart [0x0x7ff99ee1c34c+44]\n"
     ]
    }
   ],
   "source": [
    "# Demo only\n",
    "values = get_input()\n",
    "print(values, is_game_end(values))"
   ]
  },
  {
   "cell_type": "code",
   "execution_count": 16,
   "id": "e7b7ee7b",
   "metadata": {},
   "outputs": [],
   "source": [
    "def do_click(index):\n",
    "    grid_cells = driver.find_elements(By.XPATH, '//div[@class=\"grid\"]//div[@class=\"row\"]//div//div')\n",
    "    grid_cells[index].click()"
   ]
  },
  {
   "cell_type": "code",
   "execution_count": 28,
   "id": "3ee08e94",
   "metadata": {},
   "outputs": [],
   "source": [
    "for i in range(25):\n",
    "    do_click(i)"
   ]
  },
  {
   "cell_type": "code",
   "execution_count": 33,
   "id": "80a4bc71",
   "metadata": {},
   "outputs": [],
   "source": [
    "def reset():\n",
    "    reset_button = driver.find_element(By.XPATH, '//div[text()=\"restart\"]')\n",
    "    reset_button.click()"
   ]
  },
  {
   "cell_type": "code",
   "execution_count": 34,
   "id": "8a99e3dc",
   "metadata": {},
   "outputs": [],
   "source": [
    "reset()"
   ]
  }
 ],
 "metadata": {
  "kernelspec": {
   "display_name": "Python 3",
   "language": "python",
   "name": "python3"
  },
  "language_info": {
   "codemirror_mode": {
    "name": "ipython",
    "version": 3
   },
   "file_extension": ".py",
   "mimetype": "text/x-python",
   "name": "python",
   "nbconvert_exporter": "python",
   "pygments_lexer": "ipython3",
   "version": "3.10.10"
  }
 },
 "nbformat": 4,
 "nbformat_minor": 5
}
