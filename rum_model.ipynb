{
 "cells": [
  {
   "cell_type": "code",
   "execution_count": null,
   "id": "4324332a",
   "metadata": {},
   "outputs": [
    {
     "name": "stdout",
     "output_type": "stream",
     "text": [
      "0\n",
      "Grid Values (left to right, top to bottom):\n",
      "[]\n"
     ]
    }
   ],
   "source": [
    "from selenium import webdriver\n",
    "from selenium.webdriver.chrome.service import Service\n",
    "from selenium.webdriver.common.by import By\n",
    "import time\n",
    "import re\n",
    "\n",
    "# Setup Chrome options\n",
    "options = webdriver.ChromeOptions()\n",
    "options.add_argument(\"--start-maximized\")  # Optional: Start with a maximized window\n",
    "\n",
    "# Create WebDriver (Make sure chromedriver is in your PATH or specify the full path)\n",
    "driver = webdriver.Chrome(service=Service(), options=options)\n",
    "\n",
    "# Load the page\n",
    "driver.get(\"https://rumm.io\")\n",
    "\n",
    "# Wait for page to load content\n",
    "time.sleep(5)  # Increase if needed\n",
    "\n",
    "\n",
    "# The browser stays open\n"
   ]
  },
  {
   "cell_type": "code",
   "execution_count": 46,
   "id": "67982afe",
   "metadata": {},
   "outputs": [
    {
     "name": "stdout",
     "output_type": "stream",
     "text": [
      "25\n",
      "Input Grid Values (left to right, top to bottom):\n",
      "[3, 2, 6, 2, 4, 6, 5, 6, 1, 3, 1, 4, 2, 2, 1, 4, 4, 5, 1, 1, 2, 6, 2, 5, 4, 5]\n"
     ]
    }
   ],
   "source": [
    "# Get all cell-top divs inside the main 5x5 grid (not tutorial or win-grid)\n",
    "grid_cells = grid_cells = driver.find_elements(By.XPATH, '//div[@class=\"grid\"]//div[@class=\"row\"]//div//div')\n",
    "\n",
    "print(len(grid_cells))\n",
    "# Extract the class name (e.g., c0, c1...) and parse the numeric value\n",
    "values = []\n",
    "for cell in grid_cells:\n",
    "    class_attr = cell.get_attribute(\"class\")\n",
    "    match = class_attr.split(\" \")\n",
    "    values.append(int(match[-1][1:]))\n",
    "\n",
    "\n",
    "input_cell = driver.find_elements(By.XPATH, '//div[@id=\"next\"]//div')\n",
    "class_attr = input_cell[0].get_attribute(\"class\")\n",
    "match = class_attr.split(\" \")\n",
    "values.append(int(match[-1][1:]))\n",
    "print(\"Input Grid Values (left to right, top to bottom):\")\n",
    "print(values)"
   ]
  },
  {
   "cell_type": "code",
   "execution_count": 47,
   "id": "91d7df09",
   "metadata": {},
   "outputs": [
    {
     "name": "stdout",
     "output_type": "stream",
     "text": [
      "True\n"
     ]
    }
   ],
   "source": [
    "isEnd = not(0 in values)\n",
    "print(isEnd)"
   ]
  }
 ],
 "metadata": {
  "kernelspec": {
   "display_name": "Python 3",
   "language": "python",
   "name": "python3"
  },
  "language_info": {
   "codemirror_mode": {
    "name": "ipython",
    "version": 3
   },
   "file_extension": ".py",
   "mimetype": "text/x-python",
   "name": "python",
   "nbconvert_exporter": "python",
   "pygments_lexer": "ipython3",
   "version": "3.12.3"
  }
 },
 "nbformat": 4,
 "nbformat_minor": 5
}
